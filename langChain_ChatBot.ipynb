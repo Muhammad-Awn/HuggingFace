{
 "cells": [
  {
   "cell_type": "code",
   "execution_count": null,
   "metadata": {},
   "outputs": [],
   "source": [
    "# !pip install huggingface-hub transformers langchain chainlit"
   ]
  },
  {
   "cell_type": "code",
   "execution_count": null,
   "metadata": {},
   "outputs": [],
   "source": [
    "from langchain import HuggingFaceHub, PromptTemplate, LLMChain\n",
    "import api\n",
    "\n",
    "API_TOKEN = api.API_KEY"
   ]
  },
  {
   "cell_type": "code",
   "execution_count": null,
   "metadata": {},
   "outputs": [],
   "source": [
    "model_id = \"gpt2-medium\"\n",
    "conv_model = HuggingFaceHub(huggingfacehub_api_token=API_TOKEN,\n",
    "                            repo_id=model_id,\n",
    "                            model_kwargs={\"temperature\": 1},)"
   ]
  },
  {
   "cell_type": "code",
   "execution_count": null,
   "metadata": {},
   "outputs": [],
   "source": [
    "template = \"\"\"You are a helpful and friendly chatbot that makes conversation with the user.\n",
    "\n",
    "User: {user_input}\n",
    "\n",
    "System: \"\"\""
   ]
  },
  {
   "cell_type": "code",
   "execution_count": null,
   "metadata": {},
   "outputs": [],
   "source": [
    "# Without ChainLit\n",
    "\n",
    "prompt = PromptTemplate(template=template, input_variables=[\"user_input\"])\n",
    "\n",
    "conv_chain = LLMChain(llm=conv_model, prompt=prompt, verbose=True)\n",
    "\n",
    "print(conv_chain.run(\"Hello, how are you?\"))"
   ]
  },
  {
   "cell_type": "markdown",
   "metadata": {},
   "source": [
    "## Setting Up ChainLit"
   ]
  },
  {
   "cell_type": "code",
   "execution_count": null,
   "metadata": {},
   "outputs": [],
   "source": [
    "import chainlit as cl"
   ]
  },
  {
   "cell_type": "code",
   "execution_count": null,
   "metadata": {},
   "outputs": [],
   "source": [
    "@cl.on_chat_start\n",
    "def main():\n",
    "    # Instantiate the chain for that user session\n",
    "    prompt = PromptTemplate(template=template, input_variables=[\"user_input\"])\n",
    "    llm_chain = LLMChain(prompt=prompt, llm=conv_model, verbose=True)\n",
    "\n",
    "    # Store the chain in the user session\n",
    "    cl.user_session.set(\"llm_chain\", llm_chain)"
   ]
  },
  {
   "cell_type": "code",
   "execution_count": null,
   "metadata": {},
   "outputs": [],
   "source": [
    "@cl.on_message\n",
    "async def main(message: str):\n",
    "    # Retrieve the chain from the user session\n",
    "    llm_chain = cl.user_session.get(\"llm_chain\")  # type: LLMChain\n",
    "\n",
    "    # Call the chain synchronously in a different thread\n",
    "    res = await cl.make_async(llm_chain)(\n",
    "        message, callbacks=[cl.LangchainCallbackHandler()]\n",
    "    )\n",
    "\n",
    "    # Do any post processing here\n",
    "\n",
    "    # \"res\" is a Dict. For this chain, we get the response by reading the \"text\" key.\n",
    "    # This varies from chain to chain, you should check which key to read.\n",
    "    await cl.Message(content=res[\"text\"]).send()\n",
    "    return llm_chain"
   ]
  }
 ],
 "metadata": {
  "kernelspec": {
   "display_name": ".venv",
   "language": "python",
   "name": "python3"
  },
  "language_info": {
   "codemirror_mode": {
    "name": "ipython",
    "version": 3
   },
   "file_extension": ".py",
   "mimetype": "text/x-python",
   "name": "python",
   "nbconvert_exporter": "python",
   "pygments_lexer": "ipython3",
   "version": "3.10.2"
  },
  "orig_nbformat": 4
 },
 "nbformat": 4,
 "nbformat_minor": 2
}
